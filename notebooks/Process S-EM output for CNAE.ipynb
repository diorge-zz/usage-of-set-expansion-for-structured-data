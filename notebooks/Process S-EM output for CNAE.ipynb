{
 "cells": [
  {
   "cell_type": "code",
   "execution_count": 1,
   "metadata": {},
   "outputs": [],
   "source": [
    "import os\n",
    "import numpy as np\n",
    "import pandas as pd"
   ]
  },
  {
   "cell_type": "code",
   "execution_count": 42,
   "metadata": {},
   "outputs": [],
   "source": [
    "GUESSES = 20"
   ]
  },
  {
   "cell_type": "code",
   "execution_count": 3,
   "metadata": {},
   "outputs": [],
   "source": [
    "DATA_PATH = os.path.expanduser('~/Documents/code/trabalho-disciplina/set-expansion-structured-data/data')\n",
    "RESULT_PATH = os.path.join(DATA_PATH, 'cnae-s-em-output')"
   ]
  },
  {
   "cell_type": "code",
   "execution_count": 4,
   "metadata": {},
   "outputs": [],
   "source": [
    "dfquery = pd.read_csv(os.path.join(DATA_PATH, 'CNAE-9_query.csv'))"
   ]
  },
  {
   "cell_type": "code",
   "execution_count": 53,
   "metadata": {},
   "outputs": [
    {
     "name": "stdout",
     "output_type": "stream",
     "text": [
      "[{'n': 10, 'algorithm': 's-em', 'precision': 0.51040723981900449, 'recall': 0.047259929612870781}, {'n': 20, 'algorithm': 's-em', 'precision': 0.50214932126696832, 'recall': 0.092990615049438563}, {'n': 30, 'algorithm': 's-em', 'precision': 0.49396681749622928, 'recall': 0.13721300486006369}, {'n': 50, 'algorithm': 's-em', 'precision': 0.50144796380090495, 'recall': 0.23215183509301157}, {'n': 100, 'algorithm': 's-em', 'precision': 0.48821266968325788, 'recall': 0.45204876822523876}, {'n': 150, 'algorithm': 's-em', 'precision': 0.44318250377073903, 'recall': 0.6155312552371377}, {'n': 200, 'algorithm': 's-em', 'precision': 0.39433257918552039, 'recall': 0.73024551701022278}]\n",
      "CPU times: user 2.18 s, sys: 24 ms, total: 2.2 s\n",
      "Wall time: 2.2 s\n"
     ]
    }
   ],
   "source": [
    "%%time\n",
    "\n",
    "results = []\n",
    "for n in [10, 20, 30, 50, 100, 150, 200]:\n",
    "    precisions = []\n",
    "    recalls = []\n",
    "    for query in dfquery.iterrows():\n",
    "        index = query[0]\n",
    "        query_items = np.array([int(x) for x in query[1]['query'].split(',')])\n",
    "        query_targets = np.array([int(x) for x in query[1]['target'].split(',')])\n",
    "\n",
    "        # these did not work for S-EM\n",
    "        if index in [160, 206, 239, 305, 324, 408, 429, 438]:\n",
    "            continue\n",
    "\n",
    "        with open(os.path.join(RESULT_PATH, str(index) + '.output'), 'r') as output_file:\n",
    "            scores = output_file.read()\n",
    "\n",
    "        scores = np.array([float(x) for x in scores.split('\\n')[:-1]])\n",
    "        most_likely = np.argsort(scores)\n",
    "\n",
    "        # remove the query itself from the results\n",
    "        valid_guesses = np.where(~np.isin(most_likely, query_items))\n",
    "\n",
    "        expansion = most_likely[valid_guesses][:n]\n",
    "\n",
    "        hits = np.sum(np.isin(expansion, query_targets))\n",
    "        precision = hits / n\n",
    "        recall = hits / len(query_targets)\n",
    "        precisions.append(precision)\n",
    "        recalls.append(recall)\n",
    "    \n",
    "    results.append({'n': n, 'algorithm': 's-em',\n",
    "                    'precision': np.mean(precisions), 'recall': np.mean(recalls)})\n",
    "    \n",
    "print(results)"
   ]
  },
  {
   "cell_type": "code",
   "execution_count": null,
   "metadata": {},
   "outputs": [],
   "source": []
  }
 ],
 "metadata": {
  "kernelspec": {
   "display_name": "Python 3",
   "language": "python",
   "name": "python3"
  },
  "language_info": {
   "codemirror_mode": {
    "name": "ipython",
    "version": 3
   },
   "file_extension": ".py",
   "mimetype": "text/x-python",
   "name": "python",
   "nbconvert_exporter": "python",
   "pygments_lexer": "ipython3",
   "version": "3.6.3"
  }
 },
 "nbformat": 4,
 "nbformat_minor": 2
}
