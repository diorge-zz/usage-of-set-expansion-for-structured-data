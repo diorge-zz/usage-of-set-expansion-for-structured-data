{
 "cells": [
  {
   "cell_type": "code",
   "execution_count": 1,
   "metadata": {},
   "outputs": [],
   "source": [
    "import numpy as np\n",
    "import pandas as pd\n",
    "from sklearn.preprocessing import MinMaxScaler, Binarizer\n",
    "import bayessets\n",
    "import matplotlib.pyplot as plt\n",
    "import seaborn as sns\n",
    "%matplotlib inline\n",
    "\n",
    "import os"
   ]
  },
  {
   "cell_type": "code",
   "execution_count": 2,
   "metadata": {},
   "outputs": [],
   "source": [
    "DATA_PATH = os.path.expanduser('~/Documents/code/trabalho-disciplina/set-expansion-structured-data/data')\n",
    "dfquery = pd.read_csv(os.path.join(DATA_PATH, 'CNAE-9_query.csv'))\n",
    "df = pd.read_csv(os.path.join(DATA_PATH, 'CNAE-9.data'), header=None)"
   ]
  },
  {
   "cell_type": "code",
   "execution_count": 18,
   "metadata": {},
   "outputs": [],
   "source": [
    "data_matrix = df.iloc[:, 1:].as_matrix().astype(np.float64)\n",
    "scaler = MinMaxScaler()\n",
    "binarizer = Binarizer(threshold=0.5)\n",
    "data = binarizer.fit_transform(scaler.fit_transform(data_matrix))\n",
    "model = bayessets.BernoulliBayesianSet(data)"
   ]
  },
  {
   "cell_type": "code",
   "execution_count": 24,
   "metadata": {},
   "outputs": [
    {
     "name": "stdout",
     "output_type": "stream",
     "text": [
      "[{'n': 10, 'algorithm': 'bayessets', 'precision': 0.93022222222222228, 'recall': 0.086131687242798335}, {'n': 20, 'algorithm': 'bayessets', 'precision': 0.90722222222222226, 'recall': 0.16800411522633743}, {'n': 30, 'algorithm': 'bayessets', 'precision': 0.87237037037037046, 'recall': 0.24232510288065842}, {'n': 50, 'algorithm': 'bayessets', 'precision': 0.76764444444444435, 'recall': 0.3553909465020576}, {'n': 100, 'algorithm': 'bayessets', 'precision': 0.5391111111111111, 'recall': 0.49917695473251028}, {'n': 150, 'algorithm': 'bayessets', 'precision': 0.39577777777777784, 'recall': 0.54969135802469138}, {'n': 200, 'algorithm': 'bayessets', 'precision': 0.33533333333333337, 'recall': 0.62098765432098768}]\n",
      "CPU times: user 2.52 s, sys: 0 ns, total: 2.52 s\n",
      "Wall time: 2.52 s\n"
     ]
    }
   ],
   "source": [
    "%%time\n",
    "results = []\n",
    "for n in [10, 20, 30, 50, 100, 150, 200]:\n",
    "    precisions = []\n",
    "    recalls = []\n",
    "    \n",
    "    for query in dfquery.iterrows():\n",
    "        index = query[0]\n",
    "        query_items = np.array([int(x) for x in query[1]['query'].split(',')])\n",
    "        query_targets = np.array([int(x) for x in query[1]['target'].split(',')])\n",
    "        \n",
    "        scores = model.query(query_items)\n",
    "        most_likely = np.argsort(scores)[::-1]\n",
    "\n",
    "        # remove the query itself from the results\n",
    "        valid_guesses = np.where(~np.isin(most_likely, query_items))\n",
    "\n",
    "        expansion = most_likely[valid_guesses][:n]\n",
    "\n",
    "        hits = np.sum(np.isin(expansion, query_targets))\n",
    "        precision = hits / n\n",
    "        recall = hits / len(query_targets)\n",
    "        precisions.append(precision)\n",
    "        recalls.append(recall)\n",
    "    \n",
    "    results.append({'n': n, 'algorithm': 'bayessets',\n",
    "                    'precision': np.mean(precisions), 'recall': np.mean(recalls)})\n",
    "\n",
    "print(results)"
   ]
  },
  {
   "cell_type": "code",
   "execution_count": null,
   "metadata": {},
   "outputs": [],
   "source": []
  }
 ],
 "metadata": {
  "kernelspec": {
   "display_name": "Python 3",
   "language": "python",
   "name": "python3"
  },
  "language_info": {
   "codemirror_mode": {
    "name": "ipython",
    "version": 3
   },
   "file_extension": ".py",
   "mimetype": "text/x-python",
   "name": "python",
   "nbconvert_exporter": "python",
   "pygments_lexer": "ipython3",
   "version": "3.6.3"
  }
 },
 "nbformat": 4,
 "nbformat_minor": 2
}
