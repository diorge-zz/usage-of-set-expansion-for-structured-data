{
 "cells": [
  {
   "cell_type": "code",
   "execution_count": 1,
   "metadata": {},
   "outputs": [],
   "source": [
    "import os\n",
    "import numpy as np\n",
    "import pandas as pd\n",
    "from sklearn.neighbors import NearestNeighbors"
   ]
  },
  {
   "cell_type": "code",
   "execution_count": 4,
   "metadata": {},
   "outputs": [],
   "source": [
    "DATA_PATH = os.path.expanduser('~/Documents/code/trabalho-disciplina/set-expansion-structured-data/data')\n",
    "dfquery = pd.read_csv(os.path.join(DATA_PATH, 'CNAE-9_query.csv'))\n",
    "df = pd.read_csv(os.path.join(DATA_PATH, 'CNAE-9.data'), header=None)\n",
    "\n",
    "data_matrix = df.iloc[:, 1:].as_matrix().astype(np.float64)"
   ]
  },
  {
   "cell_type": "code",
   "execution_count": 17,
   "metadata": {},
   "outputs": [
    {
     "name": "stdout",
     "output_type": "stream",
     "text": [
      "[{'n': 10, 'algorithm': 'centroidknn', 'precision': 0.79311111111111121, 'recall': 0.073436213991769528}, {'n': 20, 'algorithm': 'centroidknn', 'precision': 0.72077777777777785, 'recall': 0.13347736625514403}, {'n': 30, 'algorithm': 'centroidknn', 'precision': 0.66859259259259263, 'recall': 0.1857201646090535}, {'n': 50, 'algorithm': 'centroidknn', 'precision': 0.57320000000000004, 'recall': 0.26537037037037037}, {'n': 100, 'algorithm': 'centroidknn', 'precision': 0.39942222222222223, 'recall': 0.36983539094650203}, {'n': 150, 'algorithm': 'centroidknn', 'precision': 0.32354074074074074, 'recall': 0.44936213991769552}, {'n': 200, 'algorithm': 'centroidknn', 'precision': 0.27305555555555555, 'recall': 0.50565843621399176}]\n",
      "CPU times: user 9.39 s, sys: 4 ms, total: 9.39 s\n",
      "Wall time: 9.39 s\n"
     ]
    }
   ],
   "source": [
    "%%time\n",
    "results = []\n",
    "\n",
    "for n in [10, 20, 30, 50, 100, 150, 200]:\n",
    "    centroidprecisions = []\n",
    "    centroidrecalls = []\n",
    "\n",
    "    nbrs = NearestNeighbors(n_neighbors=n * 2).fit(data_matrix)\n",
    "\n",
    "    for row in dfquery.iterrows():\n",
    "        query = np.array([int(x) for x in row[1].query.split(',')])\n",
    "        target = np.array([int(x) for x in row[1].target.split(',')])\n",
    "\n",
    "        examples = df.iloc[query, 1:]\n",
    "        centroid = examples.mean()\n",
    "        distances, indices = nbrs.kneighbors([centroid])\n",
    "\n",
    "        expansion = set(indices[0][~np.isin(indices[0], query, assume_unique=True)][:n])\n",
    "        valid_guesses = set(target)\n",
    "\n",
    "        hits = len(expansion.intersection(valid_guesses))\n",
    "        size = len(expansion)\n",
    "\n",
    "        precision = hits / size\n",
    "        recall = hits / len(target)\n",
    "        centroidprecisions.append(precision)\n",
    "        centroidrecalls.append(recall)\n",
    "    \n",
    "    results.append({'n': n, 'algorithm': 'centroidknn',\n",
    "                    'precision': np.mean(centroidprecisions), 'recall': np.mean(centroidrecalls)})\n",
    "    \n",
    "print(results)"
   ]
  },
  {
   "cell_type": "code",
   "execution_count": 18,
   "metadata": {},
   "outputs": [
    {
     "name": "stdout",
     "output_type": "stream",
     "text": [
      "[{'n': 10, 'algorithm': 'anyknn', 'precision': 0.69466666666666677, 'recall': 0.064320987654320982}, {'n': 20, 'algorithm': 'anyknn', 'precision': 0.60644444444444434, 'recall': 0.11230452674897119}, {'n': 30, 'algorithm': 'anyknn', 'precision': 0.5523703703703704, 'recall': 0.15343621399176954}, {'n': 50, 'algorithm': 'anyknn', 'precision': 0.47053333333333336, 'recall': 0.21783950617283948}, {'n': 100, 'algorithm': 'anyknn', 'precision': 0.34562222222222222, 'recall': 0.32002057613168727}, {'n': 150, 'algorithm': 'anyknn', 'precision': 0.27976296296296299, 'recall': 0.38855967078189302}, {'n': 200, 'algorithm': 'anyknn', 'precision': 0.23903333333333332, 'recall': 0.44265432098765434}]\n",
      "CPU times: user 1min 5s, sys: 0 ns, total: 1min 5s\n",
      "Wall time: 1min 5s\n"
     ]
    }
   ],
   "source": [
    "%%time\n",
    "def get_closest(distances, indices, remove_duplicate=True):\n",
    "    distances = distances.flatten()\n",
    "    indices = indices.flatten()\n",
    "    inds = distances.argsort()\n",
    "    closest = indices[inds]\n",
    "    \n",
    "    if remove_duplicate:\n",
    "        _, idx = np.unique(closest, return_index=True)\n",
    "        return closest[np.sort(idx)]\n",
    "    return closest\n",
    "\n",
    "\n",
    "results = []\n",
    "\n",
    "for n in [10, 20, 30, 50, 100, 150, 200]:\n",
    "    anyprecisions = []\n",
    "    anyrecalls = []\n",
    "    nbrs = NearestNeighbors(n_neighbors=n * 2).fit(data_matrix)\n",
    "    \n",
    "    for row in dfquery.iterrows():\n",
    "        query = np.array([int(x) for x in row[1].query.split(',')])\n",
    "        target = np.array([int(x) for x in row[1].target.split(',')])\n",
    "        \n",
    "        examples = df.iloc[query, 1:]\n",
    "        distances, indices = nbrs.kneighbors(examples)\n",
    "        ordered = get_closest(distances, indices)\n",
    "        \n",
    "        expansion = set(indices[0][~np.isin(indices[0], query, assume_unique=True)][:n])\n",
    "        valid_guesses = set(target)\n",
    "\n",
    "        hits = len(expansion.intersection(valid_guesses))\n",
    "        size = len(expansion)\n",
    "\n",
    "        precision = hits / size\n",
    "        recall = hits / len(target)\n",
    "        anyprecisions.append(precision)\n",
    "        anyrecalls.append(recall)\n",
    "    \n",
    "    results.append({'n': n, 'algorithm': 'anyknn',\n",
    "                    'precision': np.mean(anyprecisions), 'recall': np.mean(anyrecalls)})\n",
    "    \n",
    "print(results)"
   ]
  },
  {
   "cell_type": "code",
   "execution_count": null,
   "metadata": {},
   "outputs": [],
   "source": []
  }
 ],
 "metadata": {
  "kernelspec": {
   "display_name": "Python 3",
   "language": "python",
   "name": "python3"
  },
  "language_info": {
   "codemirror_mode": {
    "name": "ipython",
    "version": 3
   },
   "file_extension": ".py",
   "mimetype": "text/x-python",
   "name": "python",
   "nbconvert_exporter": "python",
   "pygments_lexer": "ipython3",
   "version": "3.6.3"
  }
 },
 "nbformat": 4,
 "nbformat_minor": 2
}
