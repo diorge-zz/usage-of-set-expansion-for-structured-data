{
 "cells": [
  {
   "cell_type": "markdown",
   "metadata": {},
   "source": [
    "Converting integer CSV to LPU's format:\n",
    "\n",
    "- features with value zero should be ignored\n",
    "- features with positive value should be written as \"Feature:Value\", such as \"354:3\"\n",
    "- such pairs are separated with spaces\n",
    "- the features must be ordered\n",
    "- if classes are provided, they should be either -1 or +1 at the start of the row\n",
    "- features start at 1"
   ]
  },
  {
   "cell_type": "code",
   "execution_count": 5,
   "metadata": {},
   "outputs": [],
   "source": [
    "import os\n",
    "import numpy as np\n",
    "import pandas as pd"
   ]
  },
  {
   "cell_type": "code",
   "execution_count": 66,
   "metadata": {},
   "outputs": [],
   "source": [
    "def to_lpu(x, y=None):\n",
    "    d1, d2 = x.shape\n",
    "    rows = []\n",
    "    if y is not None:\n",
    "        assert y.shape == (d1,)\n",
    "    \n",
    "    for row in range(d1):\n",
    "        rows.append([])\n",
    "        if y is not None:\n",
    "            rows[-1].append(str(y[row]))\n",
    "        for attr in range(d2):\n",
    "            v = x[row, attr]\n",
    "            if v > 0:\n",
    "                rows[-1].append(f'{attr + 1}:{v}')\n",
    "        rows[-1] = ' '.join(rows[-1])\n",
    "    \n",
    "    return '\\n'.join(rows)"
   ]
  },
  {
   "cell_type": "code",
   "execution_count": 67,
   "metadata": {},
   "outputs": [
    {
     "name": "stdout",
     "output_type": "stream",
     "text": [
      "1:4 2:5 4:6\n",
      "2:3 3:4 4:8\n",
      "3:1\n"
     ]
    }
   ],
   "source": [
    "x = np.array([[4, 5, 0, 6],\n",
    "              [0, 3, 4, 8],\n",
    "              [0, 0, 1, 0]])\n",
    "print(to_lpu(x))"
   ]
  },
  {
   "cell_type": "code",
   "execution_count": 68,
   "metadata": {},
   "outputs": [
    {
     "name": "stdout",
     "output_type": "stream",
     "text": [
      "1 1:4 2:5 4:6\n",
      "1 2:3 3:4 4:8\n",
      "-1 3:1\n"
     ]
    }
   ],
   "source": [
    "y = np.array([1, 1, -1])\n",
    "print(to_lpu(x, y))"
   ]
  },
  {
   "cell_type": "code",
   "execution_count": 44,
   "metadata": {},
   "outputs": [],
   "source": [
    "dfX = pd.read_csv(os.path.expanduser('~/Documents/code/trabalho-disciplina/set-expansion-structured-data/data/CNAE-9.data'), header=None)\n",
    "dfquery = pd.read_csv(os.path.expanduser('~/Documents/code/trabalho-disciplina/set-expansion-structured-data/data/CNAE-9_query.csv'))"
   ]
  },
  {
   "cell_type": "code",
   "execution_count": 73,
   "metadata": {},
   "outputs": [],
   "source": [
    "for query in dfquery.iterrows():\n",
    "    positive = np.array([int(x) for x in query[1]['query'].split(',')])\n",
    "    target = np.array([int(x) for x in query[1]['target'].split(',')])\n",
    "    positive_data = dfX.iloc[positive, 1:]\n",
    "    target_data = dfX.iloc[target, 1:]\n",
    "    \n",
    "    mask = np.zeros(dfX.shape[0], dtype=np.bool)\n",
    "    mask[target] = True\n",
    "    target_y = np.zeros(dfX.shape[0], dtype=np.int)\n",
    "    target_y[mask] = 1\n",
    "    target_y[~mask] = -1\n",
    "    \n",
    "    positive_lpu = to_lpu(positive_data.as_matrix())\n",
    "    unlabeled_lpu = to_lpu(target_data.as_matrix())\n",
    "    test_lpu = to_lpu(dfX.iloc[:, 1:].as_matrix(), target_y)\n",
    "    \n",
    "    with open(os.path.expanduser('~/Documents/code/trabalho-disciplina/set-expansion-structured-data/data/cnae-query/'\n",
    "                                 + str(query[0]) + '.pos'), 'w') as f:\n",
    "        f.write(positive_lpu)\n",
    "    with open(os.path.expanduser('~/Documents/code/trabalho-disciplina/set-expansion-structured-data/data/cnae-query/'\n",
    "                                 + str(query[0]) + '.unlabel'), 'w') as f:\n",
    "        f.write(unlabeled_lpu)\n",
    "    with open(os.path.expanduser('~/Documents/code/trabalho-disciplina/set-expansion-structured-data/data/cnae-query/'\n",
    "                                 + str(query[0]) + '.test'), 'w') as f:\n",
    "        f.write(test_lpu)"
   ]
  },
  {
   "cell_type": "code",
   "execution_count": null,
   "metadata": {},
   "outputs": [],
   "source": []
  }
 ],
 "metadata": {
  "kernelspec": {
   "display_name": "Python 3",
   "language": "python",
   "name": "python3"
  },
  "language_info": {
   "codemirror_mode": {
    "name": "ipython",
    "version": 3
   },
   "file_extension": ".py",
   "mimetype": "text/x-python",
   "name": "python",
   "nbconvert_exporter": "python",
   "pygments_lexer": "ipython3",
   "version": "3.6.3"
  }
 },
 "nbformat": 4,
 "nbformat_minor": 2
}
