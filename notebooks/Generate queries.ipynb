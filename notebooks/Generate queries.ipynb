{
 "cells": [
  {
   "cell_type": "markdown",
   "metadata": {},
   "source": [
    "In order for all algorithms to have the same data, the queries will be produced independent of the algorithm and used for all of them."
   ]
  },
  {
   "cell_type": "code",
   "execution_count": 1,
   "metadata": {},
   "outputs": [],
   "source": [
    "import numpy as np\n",
    "import pandas as pd\n",
    "import os"
   ]
  },
  {
   "cell_type": "code",
   "execution_count": 2,
   "metadata": {},
   "outputs": [],
   "source": [
    "DATA_PATH = os.path.expanduser('~/Documents/datasets/mulan')\n",
    "DATASETS = ['birds',\n",
    "            'birds-test',\n",
    "            'birds-train',\n",
    "            'CAL500',\n",
    "            'emotions',\n",
    "            'emotions-test',\n",
    "            'emotions-train',\n",
    "            'mediamill',\n",
    "            'mediamill-test',\n",
    "            'mediamill-train',\n",
    "            'yeast',\n",
    "            'yeast-test',\n",
    "            'yeast-train']\n",
    "CLASSES = ['birds', 'CAL500', 'emotions', 'mediamill', 'yeast']"
   ]
  },
  {
   "cell_type": "code",
   "execution_count": 3,
   "metadata": {},
   "outputs": [],
   "source": [
    "SAMPLES_PER_ATTRIBUTE = 10 # how many queries will be produced per attribute\n",
    "MINIMUM_EXAMPLE_COUNT = 6 # ignores attribute if there's less than this amount of examples\n",
    "RATIO_OF_SAMPLE = 0.4 # 40% of sample size becomes query and 60% are valid targets\n",
    "MAXIMUM_SAMPLE_SIZE = 12 # maximum amount of examples used for querying"
   ]
  },
  {
   "cell_type": "code",
   "execution_count": 4,
   "metadata": {},
   "outputs": [],
   "source": [
    "# set seed for reproducibility - reset it if rerunning the shuffling\n",
    "np.random.seed(42)"
   ]
  },
  {
   "cell_type": "code",
   "execution_count": 5,
   "metadata": {},
   "outputs": [],
   "source": [
    "def merge(targets):\n",
    "    if len(targets) > 1:\n",
    "        ret = set()\n",
    "        for x in targets:\n",
    "            ret = ret.union(set(x))\n",
    "        return ','.join(sorted(ret))\n",
    "    return ','.join(sorted(targets.iloc[0]))"
   ]
  },
  {
   "cell_type": "code",
   "execution_count": 6,
   "metadata": {},
   "outputs": [],
   "source": [
    "for ds in DATASETS:\n",
    "    df_Y = pd.read_csv(os.path.join(DATA_PATH, ds + '_Y.csv'))\n",
    "    queries = []\n",
    "    targets = []\n",
    "    \n",
    "    for attr in df_Y.columns:\n",
    "        valid_indices = np.nonzero(df_Y[attr])[0]\n",
    "        size = len(valid_indices)\n",
    "        if size >= MINIMUM_EXAMPLE_COUNT:\n",
    "            sample_size = min(int(size * RATIO_OF_SAMPLE), 12)\n",
    "            for _ in range(SAMPLES_PER_ATTRIBUTE):\n",
    "                np.random.shuffle(valid_indices)\n",
    "                query = ','.join(map(str, sorted(valid_indices[:sample_size])))\n",
    "                target = ','.join(map(str, sorted(valid_indices[sample_size:])))\n",
    "                queries.append(query)\n",
    "                targets.append(target)\n",
    "    \n",
    "    df_query = pd.DataFrame({'query': queries, 'target': targets}).drop_duplicates()\n",
    "    \n",
    "    unique_queries = len(df_query['query']) == df_query['query'].nunique()\n",
    "    \n",
    "    if not unique_queries:\n",
    "        df_query = df_query.groupby(by='query').aggregate(merge).reset_index()\n",
    "       \n",
    "    unique_queries = len(df_query['query']) == df_query['query'].nunique() \n",
    "    assert unique_queries\n",
    "    \n",
    "    df_query.to_csv(os.path.join(DATA_PATH, ds + '_query.csv'), index=False)"
   ]
  },
  {
   "cell_type": "code",
   "execution_count": null,
   "metadata": {},
   "outputs": [],
   "source": []
  }
 ],
 "metadata": {
  "kernelspec": {
   "display_name": "Python 3",
   "language": "python",
   "name": "python3"
  },
  "language_info": {
   "codemirror_mode": {
    "name": "ipython",
    "version": 3
   },
   "file_extension": ".py",
   "mimetype": "text/x-python",
   "name": "python",
   "nbconvert_exporter": "python",
   "pygments_lexer": "ipython3",
   "version": "3.6.3"
  }
 },
 "nbformat": 4,
 "nbformat_minor": 2
}
