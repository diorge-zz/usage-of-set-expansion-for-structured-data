{
 "cells": [
  {
   "cell_type": "code",
   "execution_count": 1,
   "metadata": {},
   "outputs": [],
   "source": [
    "import os\n",
    "import numpy as np\n",
    "import pandas as pd\n",
    "from sklearn.preprocessing import MinMaxScaler, Binarizer\n",
    "from sklearn.neighbors import NearestNeighbors\n",
    "import bayessets\n",
    "\n",
    "import matplotlib.pyplot as plt\n",
    "import seaborn as sns\n",
    "%matplotlib inline"
   ]
  },
  {
   "cell_type": "code",
   "execution_count": 2,
   "metadata": {},
   "outputs": [],
   "source": [
    "DATA_PATH = os.path.expanduser(\"~/Documents/datasets/synth/setexpansion\")\n",
    "DATASETS = ('densebinary', 'sparsebinary', 'denseinteger', 'sparseinteger')"
   ]
  },
  {
   "cell_type": "code",
   "execution_count": 3,
   "metadata": {},
   "outputs": [],
   "source": [
    "np.random.seed(42)"
   ]
  },
  {
   "cell_type": "code",
   "execution_count": 4,
   "metadata": {},
   "outputs": [],
   "source": [
    "SAMPLES_PER_ATTRIBUTE = 10 # how many queries will be produced per attribute\n",
    "MINIMUM_EXAMPLE_COUNT = 6 # ignores attribute if there's less than this amount of examples\n",
    "RATIO_OF_SAMPLE = 0.4 # 40% of sample size becomes query and 60% are valid targets\n",
    "MAXIMUM_SAMPLE_SIZE = 12 # maximum amount of examples used for querying\n",
    "\n",
    "def merge(targets):\n",
    "    if len(targets) > 1:\n",
    "        ret = set()\n",
    "        for x in targets:\n",
    "            ret = ret.union(set(x))\n",
    "        return ','.join(sorted(ret))\n",
    "    return ','.join(sorted(targets.iloc[0]))\n",
    "\n",
    "for ds in DATASETS:\n",
    "    df = pd.read_csv(os.path.join(DATA_PATH, ds + '.csv'))\n",
    "    m = df.drop('target', axis=1)\n",
    "    y = df.target\n",
    "    \n",
    "    queries = []\n",
    "    targets = []\n",
    "    \n",
    "    for cls in y.unique():\n",
    "        valid_indices = df.index[df.target == cls].tolist()\n",
    "        size = len(valid_indices)\n",
    "        \n",
    "        if size >= MINIMUM_EXAMPLE_COUNT:\n",
    "            sample_size = min(int(size * RATIO_OF_SAMPLE), MAXIMUM_SAMPLE_SIZE)\n",
    "            for _ in range(SAMPLES_PER_ATTRIBUTE):\n",
    "                np.random.shuffle(valid_indices)\n",
    "                query = ','.join(map(str, sorted(valid_indices[:sample_size])))\n",
    "                target = ','.join(map(str, sorted(valid_indices[sample_size:])))\n",
    "                queries.append(query)\n",
    "                targets.append(target)\n",
    "                \n",
    "    df_query = pd.DataFrame({'query': queries, 'target': targets}).drop_duplicates()\n",
    "    \n",
    "    unique_queries = len(df_query['query']) == df_query['query'].nunique()\n",
    "    \n",
    "    if not unique_queries:\n",
    "        df_query = df_query.groupby(by='query').aggregate(merge).reset_index()\n",
    "       \n",
    "    unique_queries = len(df_query['query']) == df_query['query'].nunique() \n",
    "    assert unique_queries\n",
    "    \n",
    "    df_query.to_csv(os.path.join(DATA_PATH, ds + '_query.csv'), index=False)\n",
    "    \n",
    "    break"
   ]
  },
  {
   "cell_type": "code",
   "execution_count": 9,
   "metadata": {},
   "outputs": [
    {
     "data": {
      "text/plain": [
       "'681,1339,2425,3169,3241,4833,6097,7543,8179,8282,8715,9222'"
      ]
     },
     "execution_count": 9,
     "metadata": {},
     "output_type": "execute_result"
    }
   ],
   "source": [
    "df_query.iloc[0].query"
   ]
  },
  {
   "cell_type": "code",
   "execution_count": null,
   "metadata": {},
   "outputs": [],
   "source": []
  }
 ],
 "metadata": {
  "kernelspec": {
   "display_name": "Python 3",
   "language": "python",
   "name": "python3"
  },
  "language_info": {
   "codemirror_mode": {
    "name": "ipython",
    "version": 3
   },
   "file_extension": ".py",
   "mimetype": "text/x-python",
   "name": "python",
   "nbconvert_exporter": "python",
   "pygments_lexer": "ipython3",
   "version": "3.6.3"
  }
 },
 "nbformat": 4,
 "nbformat_minor": 2
}
